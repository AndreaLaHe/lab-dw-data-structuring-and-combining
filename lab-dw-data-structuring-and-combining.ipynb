{
 "cells": [
  {
   "cell_type": "markdown",
   "id": "25d7736c-ba17-4aff-b6bb-66eba20fbf4e",
   "metadata": {
    "id": "25d7736c-ba17-4aff-b6bb-66eba20fbf4e"
   },
   "source": [
    "# Lab | Data Structuring and Combining Data"
   ]
  },
  {
   "cell_type": "markdown",
   "id": "a2cdfc70-44c8-478c-81e7-2bc43fdf4986",
   "metadata": {
    "id": "a2cdfc70-44c8-478c-81e7-2bc43fdf4986"
   },
   "source": [
    "## Challenge 1: Combining & Cleaning Data\n",
    "\n",
    "In this challenge, we will be working with the customer data from an insurance company, as we did in the two previous labs. The data can be found here:\n",
    "- https://raw.githubusercontent.com/data-bootcamp-v4/data/main/file1.csv\n",
    "\n",
    "But this time, we got new data, which can be found in the following 2 CSV files located at the links below.\n",
    "\n",
    "- https://raw.githubusercontent.com/data-bootcamp-v4/data/main/file2.csv\n",
    "- https://raw.githubusercontent.com/data-bootcamp-v4/data/main/file3.csv\n",
    "\n",
    "Note that you'll need to clean and format the new data.\n",
    "\n",
    "Observation:\n",
    "- One option is to first combine the three datasets and then apply the cleaning function to the new combined dataset\n",
    "- Another option would be to read the clean file you saved in the previous lab, and just clean the two new files and concatenate the three clean datasets"
   ]
  },
  {
   "cell_type": "code",
   "execution_count": 3,
   "id": "5b613368",
   "metadata": {},
   "outputs": [],
   "source": [
    "import pandas as pd"
   ]
  },
  {
   "cell_type": "code",
   "execution_count": 4,
   "id": "492d06e3-92c7-4105-ac72-536db98d3244",
   "metadata": {
    "id": "492d06e3-92c7-4105-ac72-536db98d3244"
   },
   "outputs": [],
   "source": [
    "df_file1 = pd.read_csv('C:/Users/Andre/OneDrive/Documents/GitHub/lab-dw-data-structuring-and-combining/cleaned_file1.csv')\n",
    "df_file2 = pd.read_csv('C:/Users/Andre/OneDrive/Documents/GitHub/lab-dw-data-structuring-and-combining/file2.csv')\n",
    "df_file3 = pd.read_csv('C:/Users/Andre/OneDrive/Documents/GitHub/lab-dw-data-structuring-and-combining/file3.csv')"
   ]
  },
  {
   "cell_type": "code",
   "execution_count": 17,
   "id": "aa10d9b0-1c27-4d3f-a8e4-db6ab73bfd26",
   "metadata": {
    "id": "aa10d9b0-1c27-4d3f-a8e4-db6ab73bfd26"
   },
   "outputs": [],
   "source": [
    "df_file2.columns = df_file2.columns.str.lower().str.replace(' ', '_')\n",
    "df_file3.columns = df_file3.columns.str.lower().str.replace(' ', '_')"
   ]
  },
  {
   "cell_type": "code",
   "execution_count": 18,
   "id": "eef2d31f",
   "metadata": {},
   "outputs": [],
   "source": [
    "if 'gender' in df_file2.columns:\n",
    "        df_file2['gender'] = df_file2['gender'].replace({'Femal': 'F', 'female': 'F', 'Male': 'M'})\n",
    "if 'gender' in df_file3.columns:\n",
    "        df_file3['gender'] = df_file3['gender'].replace({'Femal': 'F', 'female': 'F', 'Male': 'M'})"
   ]
  },
  {
   "cell_type": "code",
   "execution_count": 19,
   "id": "e0f07491",
   "metadata": {},
   "outputs": [],
   "source": [
    "numeric_columns_df2 = df_file2.select_dtypes(include=['number']).columns\n",
    "for column in numeric_columns_df2:\n",
    "    median_value = df_file2[column].median()\n",
    "    df_file2[column].fillna(median_value, inplace=True)\n",
    "\n",
    "categorical_columns_df2 = df_file2.select_dtypes(include=['object']).columns\n",
    "for column in categorical_columns_df2:\n",
    "    mode_value = df_file2[column].mode()[0]\n",
    "    df_file2[column].fillna(mode_value, inplace=True)\n",
    "\n",
    "numeric_columns_df3 = df_file3.select_dtypes(include=['number']).columns\n",
    "for column in numeric_columns_df3:\n",
    "    median_value = df_file3[column].median()\n",
    "    df_file3[column].fillna(median_value, inplace=True)\n",
    "\n",
    "categorical_columns_df3 = df_file3.select_dtypes(include=['object']).columns\n",
    "for column in categorical_columns_df3:\n",
    "    mode_value = df_file3[column].mode()[0]\n",
    "    df_file3[column].fillna(mode_value, inplace=True)\n",
    "\n",
    "df_file2 = df_file2.drop_duplicates().reset_index(drop=True)\n",
    "df_file3 = df_file3.drop_duplicates().reset_index(drop=True)"
   ]
  },
  {
   "cell_type": "code",
   "execution_count": 20,
   "id": "84b12f4f",
   "metadata": {},
   "outputs": [],
   "source": [
    "df_file = pd.concat([df_file1, df_file2, df_file3], ignore_index=True)"
   ]
  },
  {
   "cell_type": "markdown",
   "id": "31b8a9e7-7db9-4604-991b-ef6771603e57",
   "metadata": {
    "id": "31b8a9e7-7db9-4604-991b-ef6771603e57"
   },
   "source": [
    "# Challenge 2: Structuring Data"
   ]
  },
  {
   "cell_type": "markdown",
   "id": "a877fd6d-7a0c-46d2-9657-f25036e4ca4b",
   "metadata": {
    "id": "a877fd6d-7a0c-46d2-9657-f25036e4ca4b"
   },
   "source": [
    "In this challenge, we will continue to work with customer data from an insurance company, but we will use a dataset with more columns, called marketing_customer_analysis.csv, which can be found at the following link:\n",
    "\n",
    "https://raw.githubusercontent.com/data-bootcamp-v4/data/main/marketing_customer_analysis_clean.csv\n",
    "\n",
    "This dataset contains information such as customer demographics, policy details, vehicle information, and the customer's response to the last marketing campaign. Our goal is to explore and analyze this data by performing data cleaning, formatting, and structuring."
   ]
  },
  {
   "cell_type": "markdown",
   "id": "df35fd0d-513e-4e77-867e-429da10a9cc7",
   "metadata": {
    "id": "df35fd0d-513e-4e77-867e-429da10a9cc7"
   },
   "source": [
    "1. You work at the marketing department and you want to know which sales channel brought the most sales in terms of total revenue. Using pivot, create a summary table showing the total revenue for each sales channel (branch, call center, web, and mail).\n",
    "Round the total revenue to 2 decimal points.  Analyze the resulting table to draw insights."
   ]
  },
  {
   "cell_type": "markdown",
   "id": "640993b2-a291-436c-a34d-a551144f8196",
   "metadata": {
    "id": "640993b2-a291-436c-a34d-a551144f8196"
   },
   "source": [
    "2. Create a pivot table that shows the average customer lifetime value per gender and education level. Analyze the resulting table to draw insights."
   ]
  },
  {
   "cell_type": "code",
   "execution_count": 23,
   "id": "05be9d64",
   "metadata": {},
   "outputs": [
    {
     "data": {
      "text/plain": [
       "unnamed:_0                         int64\n",
       "customer                          object\n",
       "state                             object\n",
       "customer_lifetime_value          float64\n",
       "response                          object\n",
       "coverage                          object\n",
       "education                         object\n",
       "effective_to_date                 object\n",
       "employmentstatus                  object\n",
       "gender                            object\n",
       "income                             int64\n",
       "location_code                     object\n",
       "marital_status                    object\n",
       "monthly_premium_auto               int64\n",
       "months_since_last_claim          float64\n",
       "months_since_policy_inception      int64\n",
       "number_of_open_complaints        float64\n",
       "number_of_policies                 int64\n",
       "policy_type                       object\n",
       "policy                            object\n",
       "renew_offer_type                  object\n",
       "sales_channel                     object\n",
       "total_claim_amount               float64\n",
       "vehicle_class                     object\n",
       "vehicle_size                      object\n",
       "vehicle_type                      object\n",
       "month                              int64\n",
       "dtype: object"
      ]
     },
     "execution_count": 23,
     "metadata": {},
     "output_type": "execute_result"
    }
   ],
   "source": [
    "df_customer = pd.read_csv('C:/Users/Andre/OneDrive/Documents/GitHub/lab-dw-data-structuring-and-combining/marketing_customer_analysis_clean.csv')\n",
    "df_customer.dtypes"
   ]
  },
  {
   "cell_type": "code",
   "execution_count": 24,
   "id": "34a212c0",
   "metadata": {},
   "outputs": [
    {
     "name": "stdout",
     "output_type": "stream",
     "text": [
      "Tabla resumen del total de ventas por canal de ventas:\n",
      "               total_claim_amount\n",
      "sales_channel                    \n",
      "Agent                  1810226.82\n",
      "Branch                 1301204.00\n",
      "Call Center             926600.82\n",
      "Web                     706600.04\n",
      "\n",
      "Tabla resumen del customer lifetime value promedio por género y nivel educativo:\n",
      "                             customer_lifetime_value\n",
      "gender education                                    \n",
      "F      Bachelor                              7874.27\n",
      "       College                               7748.82\n",
      "       Doctor                                7328.51\n",
      "       High School or Below                  8675.22\n",
      "       Master                                8157.05\n",
      "M      Bachelor                              7703.60\n",
      "       College                               8052.46\n",
      "       Doctor                                7415.33\n",
      "       High School or Below                  8149.69\n",
      "       Master                                8168.83\n"
     ]
    }
   ],
   "source": [
    "pivot_sales_channel = df_customer.pivot_table(\n",
    "    values='total_claim_amount', \n",
    "    index='sales_channel', \n",
    "    aggfunc='sum'\n",
    ").round(2)\n",
    "\n",
    "print(\"Tabla resumen del total de ventas por canal de ventas:\")\n",
    "print(pivot_sales_channel)\n",
    "\n",
    "pivot_clv_gender_education = df_customer.pivot_table(\n",
    "    values='customer_lifetime_value', \n",
    "    index=['gender', 'education'], \n",
    "    aggfunc='mean'\n",
    ").round(2)\n",
    "\n",
    "print(\"\\nTabla resumen del customer lifetime value promedio por género y nivel educativo:\")\n",
    "print(pivot_clv_gender_education)"
   ]
  },
  {
   "cell_type": "markdown",
   "id": "32c7f2e5-3d90-43e5-be33-9781b6069198",
   "metadata": {
    "id": "32c7f2e5-3d90-43e5-be33-9781b6069198"
   },
   "source": [
    "## Bonus\n",
    "\n",
    "You work at the customer service department and you want to know which months had the highest number of complaints by policy type category. Create a summary table showing the number of complaints by policy type and month.\n",
    "Show it in a long format table."
   ]
  },
  {
   "cell_type": "markdown",
   "id": "e3d09a8f-953c-448a-a5f8-2e5a8cca7291",
   "metadata": {
    "id": "e3d09a8f-953c-448a-a5f8-2e5a8cca7291"
   },
   "source": [
    "*In data analysis, a long format table is a way of structuring data in which each observation or measurement is stored in a separate row of the table. The key characteristic of a long format table is that each column represents a single variable, and each row represents a single observation of that variable.*\n",
    "\n",
    "*More information about long and wide format tables here: https://www.statology.org/long-vs-wide-data/*"
   ]
  },
  {
   "cell_type": "code",
   "execution_count": 25,
   "id": "3a069e0b-b400-470e-904d-d17582191be4",
   "metadata": {
    "id": "3a069e0b-b400-470e-904d-d17582191be4"
   },
   "outputs": [
    {
     "name": "stdout",
     "output_type": "stream",
     "text": [
      "\n",
      "Tabla resumen del número de quejas por tipo de póliza y mes (formato largo):\n",
      "      policy_type  month  number_of_open_complaints\n",
      "0  Corporate Auto      1                        415\n",
      "1  Corporate Auto      2                        361\n",
      "2   Personal Auto      1                       1635\n",
      "3   Personal Auto      2                       1363\n",
      "4    Special Auto      1                         84\n",
      "5    Special Auto      2                         91\n"
     ]
    }
   ],
   "source": [
    "if 'date' in df_customer.columns:\n",
    "    df_customer['date'] = pd.to_datetime(df_customer['date'], errors='coerce')\n",
    "    df_customer['month'] = df_customer['date'].dt.month\n",
    "\n",
    "\n",
    "if 'number_of_open_complaints' in df_customer.columns and 'policy_type' in df_customer.columns:\n",
    "\n",
    "    df_customer['number_of_open_complaints'].fillna(0, inplace=True)\n",
    "    df_customer['number_of_open_complaints'] = df_customer['number_of_open_complaints'].astype(int)\n",
    "\n",
    "    complaints_summary = df_customer.groupby(['policy_type', 'month'])['number_of_open_complaints'].sum().reset_index()\n",
    "\n",
    "    print(\"\\nTabla resumen del número de quejas por tipo de póliza y mes (formato largo):\")\n",
    "    print(complaints_summary)\n",
    "\n",
    "else:\n",
    "    print(\"Las columnas necesarias ('number_of_open_complaints' o 'policy_type') no se encontraron en el DataFrame.\")"
   ]
  }
 ],
 "metadata": {
  "colab": {
   "provenance": []
  },
  "kernelspec": {
   "display_name": "Python 3 (ipykernel)",
   "language": "python",
   "name": "python3"
  },
  "language_info": {
   "codemirror_mode": {
    "name": "ipython",
    "version": 3
   },
   "file_extension": ".py",
   "mimetype": "text/x-python",
   "name": "python",
   "nbconvert_exporter": "python",
   "pygments_lexer": "ipython3",
   "version": "3.7.9"
  }
 },
 "nbformat": 4,
 "nbformat_minor": 5
}
